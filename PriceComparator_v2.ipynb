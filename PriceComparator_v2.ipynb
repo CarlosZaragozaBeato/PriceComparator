{
 "cells": [
  {
   "cell_type": "code",
   "execution_count": 14,
   "metadata": {},
   "outputs": [],
   "source": [
    "from selenium import webdriver\n",
    "from selenium.webdriver.common.by import By\n",
    "from selenium.webdriver.support.ui import WebDriverWait\n",
    "from selenium.webdriver.support import expected_conditions as EC\n",
    "from selenium.webdriver.chrome.options import Options\n",
    "\n",
    "import time\n",
    "import mysql.connector\n",
    "import difflib"
   ]
  },
  {
   "attachments": {},
   "cell_type": "markdown",
   "metadata": {},
   "source": [
    "#### Clase que heredaran cada una de las clases hijas para ahorrar lineas de codigo"
   ]
  },
  {
   "cell_type": "code",
   "execution_count": 15,
   "metadata": {},
   "outputs": [],
   "source": [
    "class Util:\n",
    "    def __init__(self, product_name: str, driver):\n",
    "        self.product_name = product_name\n",
    "        self.driver = driver\n",
    "        self.wait1 = WebDriverWait(self.driver, 10)\n",
    "        \n",
    "    \n",
    "    def ObtenerListaElementos(self, xPath:str):\n",
    "        return self.wait1.until(EC.presence_of_all_elements_located((\n",
    "                By.XPATH, xPath)))\n",
    "\n",
    "    def ObtenerListaElementosClassName(self, className:str):\n",
    "        return self.wait1.until(EC.presence_of_all_elements_located((\n",
    "                By.CLASS_NAME, className)))\n",
    "    \n",
    "    def obtenerXpath(self, xPath:str):\n",
    "        return self.wait1.until(EC.element_to_be_clickable((\n",
    "                By.XPATH, xPath)))\n",
    "        \n",
    "    def obtenerClassName(self, ClassName):\n",
    "        return self.wait1.until(EC.presence_of_element_located((\n",
    "                By.CLASS_NAME, ClassName)))\n",
    "    "
   ]
  },
  {
   "attachments": {},
   "cell_type": "markdown",
   "metadata": {},
   "source": [
    "## Clase de Dia \n",
    "##### Esta clase contendra toda logica para buscar los productos en el supermercado Dia\n",
    "###### TODO: Implementar logica para codigo, solo tiene para buscar por nombre"
   ]
  },
  {
   "cell_type": "code",
   "execution_count": 16,
   "metadata": {},
   "outputs": [],
   "source": [
    "class SearchDia(Util):\n",
    "        \n",
    "    def SearchDiaName(self):\n",
    "        self.driver.get('https://www.dia.es/compra-online/')\n",
    "\n",
    "        #Acciones basicas para acceder a los productos\n",
    "        \n",
    "        ## Aceptamos las cookies\n",
    "        btn_cookie = self.obtenerXpath('//*[@id=\"onetrust-accept-btn-handler\"]')\n",
    "        time.sleep(3)\n",
    "        btn_cookie.click()\n",
    "\n",
    "        ## Buscamos el producto\n",
    "        search_input = self.obtenerXpath('//*[@id=\"search\"]')\n",
    "        search_input.send_keys(self.product_name)\n",
    "\n",
    "        ## Nos dirigimos a la pagina de los productos\n",
    "        search_button = self.obtenerClassName('desktop-search')\n",
    "        search_button.click()\n",
    "\n",
    "\n",
    "\n",
    "        # Parte donde recogeremos la informacion de los productos\n",
    "        resultado = self._ComprobacionDia()\n",
    "\n",
    "        return resultado\n",
    "\n",
    "    # Vamos uno a uno para recoger los 5 primeros productos que aparezcan en la pagina\n",
    "    def _ComprobacionDia(self):\n",
    "        lista = []\n",
    "        lista_productos = len(self.ObtenerListaElementos('//*[@id=\"productgridcontainer\"]/div[1]/div'))\n",
    "    \n",
    "        for index in range(lista_productos):\n",
    "\n",
    "            #Metodo para saltarse la publicidad.\n",
    "            #TODO: Posible Modificacion\n",
    "            if index == 4:\n",
    "                continue\n",
    "\n",
    "            if index <=4 and lista_productos>=index:\n",
    "                self._RecuperarProductosDia(index, lista)\n",
    "                \n",
    "            if 3 >=lista_productos:\n",
    "                self._RecuperarProductosDia(index, lista)\n",
    "\n",
    "        return lista\n",
    "\n",
    "    #Recuperamos la informacion del producto \n",
    "    def _RecuperarProductosDia(self, index, lista):\n",
    "        \n",
    "            index += 1\n",
    "            \n",
    "            cadena_title = f'//*[@id=\"productgridcontainer\"]/div[1]/div[{index}]/div/a/div[2]/span'\n",
    "            title = self.obtenerXpath(cadena_title).text\n",
    "            \n",
    "            cadena_imagen = f'//*[@id=\"productgridcontainer\"]/div[1]/div[{index}]/div/a/div[1]/div[1]/img'\n",
    "            imagen = self.obtenerXpath(cadena_imagen).get_attribute('src')\n",
    "            \n",
    "            cadena_precio = f'//*[@id=\"productgridcontainer\"]/div[1]/div[{index}]/div/a/div[2]/div/p[1]'\n",
    "            precio = self.obtenerXpath(cadena_precio).text\n",
    "            \n",
    "            if \"\\n\" in precio:\n",
    "                new_precio = precio.split(\"\\n\")\n",
    "                precio = new_precio[1]\n",
    "            \n",
    "            \n",
    "            \n",
    "            resultado = (title, precio, imagen)\n",
    "\n",
    "            lista.append(resultado)"
   ]
  },
  {
   "attachments": {},
   "cell_type": "markdown",
   "metadata": {},
   "source": [
    "## Clase Carrefour\n",
    "##### Esta clase contendra toda logica para buscar los productos en el supermercado Carrefour\n",
    "###### TODO: Implementar logica para codigo, solo tiene para buscar por nombre"
   ]
  },
  {
   "cell_type": "code",
   "execution_count": 17,
   "metadata": {},
   "outputs": [],
   "source": [
    "class SearchCarrefour(Util):\n",
    "    def SearchCarrefourName(self):\n",
    "        self.driver.get('https://www.carrefour.es/?gclid=Cj0KCQiAgaGgBhC8ARIsAAAyLfHJZAkh3PZU6zJ6jhoAhxnOvsCcPahmWyNHF4xUuQiT2F9gBk3rdloaAkgGEALw_wcB&gclsrc=aw.ds')\n",
    "        \n",
    "        #Acciones basicas para acceder a los productos\n",
    "        \n",
    "        ## Aceptamos las cookies\n",
    "        btn_cookie = self.obtenerXpath('//*[@id=\"onetrust-accept-btn-handler\"]')\n",
    "        btn_cookie.click()\n",
    "\n",
    "        # A la hora de buscar hay dos inputs diferentes el segundo se crea cuando clickamos el primero\n",
    "        input_text_search_parent = self.obtenerXpath('//*[@id=\"search-input\"]')\n",
    "        input_text_search_parent.click()\n",
    "\n",
    "        # Introducimos el texto en el segundo input\n",
    "        input_text_search_child = self.obtenerXpath('//*[@id=\"empathy-x\"]/header/div[1]/div/input[3]')\n",
    "        input_text_search_child.send_keys(self.product_name)\n",
    "\n",
    "        ## Nos dirigimos a la pagina de los productos\n",
    "        button_submit = self.obtenerXpath('//*[@id=\"empathy-x\"]/header/div/button[1]')\n",
    "        button_submit.click()\n",
    "        \n",
    "        resultado = self._ComprobarCarrefour()        \n",
    "\n",
    "        \n",
    "        return resultado\n",
    "\n",
    "\n",
    "\n",
    "    def _ComprobarCarrefour(self):\n",
    "        lista_productos = len(self.ObtenerListaElementos('//*[@id=\"ebx-grid\"]/article'))\n",
    "        lista = []\n",
    "        \n",
    "        for index in range(lista_productos):\n",
    "            # La pagina del carrefour se salta el article 3\n",
    "            if index == 2:\n",
    "                continue\n",
    "            \n",
    "            \n",
    "            # TODO: COMPROBAR PROMOCIONES DE LA PAGINA\n",
    "            if index <=4 and lista_productos>=index:\n",
    "                self._RecuperarProductosCarrefour(index, lista)\n",
    "\n",
    "            if 3 >=lista_productos:\n",
    "                self._RecuperarProductosCarrefour(index, lista)\n",
    "            \n",
    "\n",
    "        return lista\n",
    "\n",
    "            \n",
    "        #Recuperamos la informacion del producto \n",
    "    def _RecuperarProductosCarrefour(self, index, lista):\n",
    "        \n",
    "            index += 1 \n",
    "            \n",
    "            cadena_title = f'//*[@id=\"ebx-grid\"]/article[{index}]/div/div[3]/a/h1'\n",
    "            title = self.obtenerXpath(cadena_title).text\n",
    "            \n",
    "            \n",
    "            cadena_image = f'//*[@id=\"ebx-grid\"]/article[{index}]/div/div[1]/a/section/img'\n",
    "            imagen = self.obtenerXpath(cadena_image).get_attribute('src')\n",
    "\n",
    "            cadena_precio = f'//*[@id=\"ebx-grid\"]/article[{index}]/div/p/strong'\n",
    "            precio = self.obtenerXpath(cadena_precio).text\n",
    "            \n",
    "            \n",
    "            resultado = (title, precio, imagen)\n",
    "            lista.append(resultado)\n",
    "\n",
    "\n"
   ]
  },
  {
   "cell_type": "code",
   "execution_count": 18,
   "metadata": {},
   "outputs": [],
   "source": [
    "class Search(SearchDia, SearchCarrefour):\n",
    "    def SearchAll(self):\n",
    "        resultados_dia = self.SearchDiaName()        \n",
    "        resultados_carrefour = self.SearchCarrefourName()\n",
    "        \n",
    "\n",
    "        \n",
    "        \n",
    "        print(resultados_dia)\n",
    "        print(resultados_carrefour)"
   ]
  },
  {
   "attachments": {},
   "cell_type": "markdown",
   "metadata": {},
   "source": [
    "### METODO MAIN DE PRUEBAS PARA IR TESTEANDO LAS ACCIONES DE CADA CLASE"
   ]
  },
  {
   "cell_type": "code",
   "execution_count": 20,
   "metadata": {},
   "outputs": [
    {
     "name": "stdout",
     "output_type": "stream",
     "text": [
      "('COCA-COLA zero pack 12 latas 33 cl', '9,12 €', 'https://s1.dia.es/medias/productimages/h3a/h6e/10996062617630.jpg')\n",
      "('COCA-COLA clásica pack 12 latas 33 cl', '9,12 €', 'https://s0.dia.es/medias/productimages/hc3/hb4/11368533295134.jpg')\n",
      "('FANTA naranja pack 9 latas 33 cl', '6,03 €', 'https://s2.dia.es/medias/productimages/hc0/h4d/11368574582814.jpg')\n",
      "('COCA-COLA clásica pack 6 latas 20 cl', '4,38 €', 'https://s0.dia.es/medias/productimages/h52/hbd/11368271020062.jpg')\n"
     ]
    }
   ],
   "source": [
    "driver = webdriver.Chrome()\n",
    "driver.maximize_window()\n",
    "\n",
    "\n",
    "producto = \"Coca Cola 2L\".lower()\n",
    "producto_2 = \"Çhocolate\".lower()\n",
    "error = \"asdpasjkhdaoushdoiahjsd\"\n",
    "\n",
    "search = Search(driver=driver, product_name=producto)\n",
    "valor = search.SearchDiaName()\n",
    "\n",
    "\n",
    "time.sleep(5)\n",
    "\n",
    "driver.quit()\n"
   ]
  },
  {
   "attachments": {},
   "cell_type": "markdown",
   "metadata": {},
   "source": [
    "# TODOS\n",
    "\n",
    "## HACER MAS OPCIONES PARA CADA UNO DE LOS SUPERMERCADOS"
   ]
  },
  {
   "cell_type": "markdown",
   "metadata": {},
   "source": []
  },
  {
   "cell_type": "markdown",
   "metadata": {},
   "source": []
  }
 ],
 "metadata": {
  "kernelspec": {
   "display_name": "Python 3",
   "language": "python",
   "name": "python3"
  },
  "language_info": {
   "codemirror_mode": {
    "name": "ipython",
    "version": 3
   },
   "file_extension": ".py",
   "mimetype": "text/x-python",
   "name": "python",
   "nbconvert_exporter": "python",
   "pygments_lexer": "ipython3",
   "version": "3.11.2"
  },
  "orig_nbformat": 4
 },
 "nbformat": 4,
 "nbformat_minor": 2
}
