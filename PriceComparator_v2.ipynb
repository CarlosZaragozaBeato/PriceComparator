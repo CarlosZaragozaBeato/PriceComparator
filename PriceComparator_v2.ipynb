{
 "cells": [
  {
   "cell_type": "code",
   "execution_count": 79,
   "metadata": {},
   "outputs": [],
   "source": [
    "from selenium import webdriver\n",
    "from selenium.webdriver.common.by import By\n",
    "from selenium.webdriver.support.ui import WebDriverWait\n",
    "from selenium.webdriver.support import expected_conditions as EC\n",
    "from selenium.webdriver.chrome.options import Options\n",
    "\n",
    "import time\n",
    "import mysql.connector\n",
    "import difflib"
   ]
  },
  {
   "attachments": {},
   "cell_type": "markdown",
   "metadata": {},
   "source": [
    "#### Clase que heredaran cada una de las clases hijas para ahorrar lineas de codigo"
   ]
  },
  {
   "cell_type": "code",
   "execution_count": 80,
   "metadata": {},
   "outputs": [],
   "source": [
    "class Util:\n",
    "    def __init__(self, product_name: str, driver):\n",
    "        self.product_name = product_name\n",
    "        self.driver = driver\n",
    "        self.wait1 = WebDriverWait(self.driver, 10)\n",
    "        \n",
    "    def obtenerXpath(self, xPath:str):\n",
    "        return self.wait1.until(EC.presence_of_element_located((\n",
    "                By.XPATH, xPath)))\n",
    "        \n",
    "    def obtenerClassName(self, ClassName):\n",
    "        return self.wait1.until(EC.presence_of_element_located((\n",
    "                By.CLASS_NAME, ClassName)))\n",
    "    "
   ]
  },
  {
   "attachments": {},
   "cell_type": "markdown",
   "metadata": {},
   "source": [
    "## Clase de Dia \n",
    "##### Esta clase contendra toda logica para buscar los productos en el supermercado Dia\n",
    "###### TODO: Implementar logica para codigo, solo tiene para buscar por nombre"
   ]
  },
  {
   "cell_type": "code",
   "execution_count": 81,
   "metadata": {},
   "outputs": [],
   "source": [
    "class SearchDia(Util):\n",
    "        \n",
    "    def SearchDiaName(self):\n",
    "        self.driver.get('https://www.dia.es/compra-online/')\n",
    "\n",
    "        btn_cookie = self.obtenerXpath('//*[@id=\"onetrust-accept-btn-handler\"]')\n",
    "        time.sleep(3)\n",
    "        btn_cookie.click()\n",
    "\n",
    "\n",
    "        search_input = self.obtenerXpath('//*[@id=\"search\"]')\n",
    "        search_input.send_keys(self.product_name)\n",
    "\n",
    "        search_button = self.obtenerClassName('desktop-search')\n",
    "        search_button.click()\n",
    "\n",
    "        resultado = self.ComprobacionDia()\n",
    "\n",
    "        return resultado\n",
    "\n",
    "    def ComprobacionDia(self):\n",
    "        lista = []\n",
    "        lista_productos = len(self.driver.find_elements(By.XPATH,'//*[@id=\"productgridcontainer\"]/div[1]/div'))\n",
    "    \n",
    "        for index in range(lista_productos):\n",
    "\n",
    "            #Metodo para saltarse la publicidad.\n",
    "            #TODO: Posible Modificacion\n",
    "            if index == 4:\n",
    "                continue\n",
    "\n",
    "            if index <=5 and lista_productos>=index:\n",
    "                self.RecuperarProductosDia(index, lista)\n",
    "                \n",
    "            if 4 >=lista_productos:\n",
    "                self.RecuperarProductosDia(index, lista)\n",
    "\n",
    "        return lista\n",
    "\n",
    "\n",
    "    def RecuperarProductosDia(self, index, lista):\n",
    "            cadena_title = f'//*[@id=\"productgridcontainer\"]/div[1]/div[{index+1}]/div/a/div[2]/span'\n",
    "            title = self.obtenerXpath(cadena_title)\n",
    "            \n",
    "            cadena_imagen = f'//*[@id=\"productgridcontainer\"]/div[1]/div[{index+1}]/div/a/div[1]/div[1]/img'\n",
    "            imagen = self.obtenerXpath(cadena_imagen)\n",
    "            \n",
    "            cadena_precio = f'//*[@id=\"productgridcontainer\"]/div[1]/div[{index+1}]/div/a/div[2]/div/p[1]'\n",
    "            precio = self.obtenerXpath(cadena_precio)\n",
    "            \n",
    "            resultado = (title.text, precio.text, imagen.get_attribute('src'))\n",
    "\n",
    "            lista.append(resultado)\n",
    "\n"
   ]
  },
  {
   "cell_type": "code",
   "execution_count": 82,
   "metadata": {},
   "outputs": [],
   "source": [
    "class SearchCarrefour(Util):\n",
    "    def SearchCarrefourName():\n",
    "        pass"
   ]
  },
  {
   "cell_type": "code",
   "execution_count": 83,
   "metadata": {},
   "outputs": [],
   "source": [
    "class Search(SearchDia, SearchCarrefour):\n",
    "    def SearchAll(self):\n",
    "        print(self.SearchDiaName())\n",
    "        "
   ]
  },
  {
   "attachments": {},
   "cell_type": "markdown",
   "metadata": {},
   "source": [
    "### METODO MAIN DE PRUEBAS PARA IR TESTEANDO LAS ACCIONES DE CADA CLASE"
   ]
  },
  {
   "cell_type": "code",
   "execution_count": 84,
   "metadata": {},
   "outputs": [
    {
     "name": "stdout",
     "output_type": "stream",
     "text": [
      "[('ASTURIANA leche semidesnatada botella 1.5 lt PACK 6', '10,68 €', 'https://s0.dia.es/medias/productimages/h55/hdc/10717076881438.jpg'), ('ASTURIANA leche entera envase 1 lt PACK 6', '6,84 €', 'https://s1.dia.es/medias/productimages/h42/h31/10717083893790.jpg'), ('ASTURIANA leche desnatada envase 1 lt PACK 6', '6,84 €', 'https://s3.dia.es/medias/productimages/hd5/h75/10717076062238.jpg'), ('ASTURIANA leche semidesnatada envase 1 lt PACK 6', '6,84 €', 'https://s2.dia.es/medias/productimages/h38/hbd/10717078913054.jpg'), ('ASTURIANA leche entera botella 1.5 lt PACK 6', '10,68 €', 'https://s2.dia.es/medias/productimages/hba/h6b/10717081927710.jpg')]\n"
     ]
    }
   ],
   "source": [
    "driver = webdriver.Chrome()\n",
    "\n",
    "producto = \"leche\"\n",
    "\n",
    "\n",
    "search = Search(driver=driver, product_name=producto)\n",
    "\n",
    "search.SearchCarrefourName()"
   ]
  },
  {
   "cell_type": "code",
   "execution_count": null,
   "metadata": {},
   "outputs": [],
   "source": []
  }
 ],
 "metadata": {
  "kernelspec": {
   "display_name": "Python 3",
   "language": "python",
   "name": "python3"
  },
  "language_info": {
   "codemirror_mode": {
    "name": "ipython",
    "version": 3
   },
   "file_extension": ".py",
   "mimetype": "text/x-python",
   "name": "python",
   "nbconvert_exporter": "python",
   "pygments_lexer": "ipython3",
   "version": "3.11.2"
  },
  "orig_nbformat": 4
 },
 "nbformat": 4,
 "nbformat_minor": 2
}
